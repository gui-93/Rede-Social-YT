{
 "cells": [
  {
   "cell_type": "code",
   "execution_count": 1,
   "id": "153f6680-79d8-4ab8-897d-9b52609eb7d0",
   "metadata": {},
   "outputs": [],
   "source": [
    "from pyspark.sql import SparkSession\n",
    "from pyspark.sql.functions import col, year, to_date, lit"
   ]
  },
  {
   "cell_type": "code",
   "execution_count": 2,
   "id": "23b1e263-5962-499b-b09f-78070d95b844",
   "metadata": {},
   "outputs": [],
   "source": [
    "# Inicializando a sessão Spark\n",
    "spark = SparkSession.builder \\\n",
    "    .appName(\"Tratamento de Dados YouTube\") \\\n",
    "    .getOrCreate()"
   ]
  },
  {
   "cell_type": "code",
   "execution_count": 3,
   "id": "4e230e49-2888-4c46-82e8-9d3e1359e829",
   "metadata": {},
   "outputs": [],
   "source": [
    "# 1. Leitura do arquivo 'videos-stats.csv'\n",
    "df_video = spark.read.csv(\"videos-stats.csv\", header=True, inferSchema=True)\n"
   ]
  },
  {
   "cell_type": "code",
   "execution_count": 4,
   "id": "dd63f357-e781-47e6-b5e5-ddd2c6b4a048",
   "metadata": {},
   "outputs": [],
   "source": [
    "# 2. Substituir valores nulos por 0 nos campos 'Likes', 'Comments' e 'Views'\n",
    "df_video = df_video.fillna({\"Likes\": 0, \"Comments\": 0, \"Views\": 0})\n"
   ]
  },
  {
   "cell_type": "code",
   "execution_count": 5,
   "id": "92c5b49e-dbf8-4eae-a7f0-aa4b413977f7",
   "metadata": {},
   "outputs": [],
   "source": [
    "# 3. Leitura do arquivo 'comments.csv'\n",
    "df_comentario = spark.read.csv(\"comments.csv\", header=True, inferSchema=True)\n"
   ]
  },
  {
   "cell_type": "code",
   "execution_count": 6,
   "id": "1ffce3f1-95b2-49e6-8a9b-67caa86063b2",
   "metadata": {},
   "outputs": [
    {
     "name": "stdout",
     "output_type": "stream",
     "text": [
      "Quantidade de registros - Vídeos: 1881, Comentários: 30036\n"
     ]
    }
   ],
   "source": [
    "# 4. Calcular a quantidade de registros\n",
    "qtd_video = df_video.count()\n",
    "qtd_comentario = df_comentario.count()\n",
    "print(f\"Quantidade de registros - Vídeos: {qtd_video}, Comentários: {qtd_comentario}\")\n"
   ]
  },
  {
   "cell_type": "code",
   "execution_count": 7,
   "id": "0b07259f-7bd5-4c22-89a0-108fce7e17ec",
   "metadata": {},
   "outputs": [
    {
     "name": "stdout",
     "output_type": "stream",
     "text": [
      "Registros após limpeza - Vídeos: 1881, Comentários: 22555\n"
     ]
    }
   ],
   "source": [
    "# 5. Remover registros com 'Video ID' nulo e recalcular a quantidade de registros\n",
    "df_video = df_video.filter(df_video['Video ID'].isNotNull())\n",
    "df_comentario = df_comentario.filter(df_comentario['Video ID'].isNotNull())\n",
    "qtd_video_clean = df_video.count()\n",
    "qtd_comentario_clean = df_comentario.count()\n",
    "print(f\"Registros após limpeza - Vídeos: {qtd_video_clean}, Comentários: {qtd_comentario_clean}\")\n"
   ]
  },
  {
   "cell_type": "code",
   "execution_count": 8,
   "id": "93df042a-f589-49fc-96bb-3d2a45683f5a",
   "metadata": {},
   "outputs": [],
   "source": [
    "# 6. Remover registros duplicados no campo 'Video ID' do df_video\n",
    "df_video = df_video.dropDuplicates([\"Video ID\"])\n"
   ]
  },
  {
   "cell_type": "code",
   "execution_count": 9,
   "id": "825f643b-4ce6-467d-b04b-df477b036a42",
   "metadata": {},
   "outputs": [],
   "source": [
    "# 7. Converter campos para 'int' no df_video e df_comentario\n",
    "df_video = df_video.withColumn(\"Likes\", col(\"Likes\").cast(\"int\")) \\\n",
    "                   .withColumn(\"Comments\", col(\"Comments\").cast(\"int\")) \\\n",
    "                   .withColumn(\"Views\", col(\"Views\").cast(\"int\"))\n",
    "\n",
    "df_comentario = df_comentario.withColumn(\"Likes\", col(\"Likes\").cast(\"int\")) \\\n",
    "                             .withColumnRenamed(\"Likes\", \"Likes Comment\") \\\n",
    "                             .withColumn(\"Sentiment\", col(\"Sentiment\").cast(\"int\"))\n"
   ]
  },
  {
   "cell_type": "code",
   "execution_count": 10,
   "id": "cb9a0604-168a-488d-bd83-5f8b625d463e",
   "metadata": {},
   "outputs": [],
   "source": [
    "# 8. Criar o campo 'Interaction' com a soma de 'Likes', 'Comments' e 'Views'\n",
    "df_video = df_video.withColumn(\"Interaction\", col(\"Likes\") + col(\"Comments\") + col(\"Views\"))\n"
   ]
  },
  {
   "cell_type": "code",
   "execution_count": 11,
   "id": "f6477552-2b97-4356-a13d-dfbb7c3f00a9",
   "metadata": {},
   "outputs": [],
   "source": [
    "# 9. Converter 'Published At' para 'date' e criar o campo 'Year'\n",
    "df_video = df_video.withColumn(\"Published At\", to_date(col(\"Published At\"))) \\\n",
    "                   .withColumn(\"Year\", year(col(\"Published At\")))"
   ]
  },
  {
   "cell_type": "code",
   "execution_count": 12,
   "id": "1a7a4f89-1b2a-439c-9d37-4c71e808e134",
   "metadata": {},
   "outputs": [],
   "source": [
    "# 10. Mesclar df_comentario no df_video\n",
    "\n",
    "df_join_video_comments = df_video.join(df_comentario, on=\"Video ID\", how=\"left\")\n"
   ]
  },
  {
   "cell_type": "code",
   "execution_count": 13,
   "id": "d18d85b6-6ff3-4fca-b448-c4f7beff869d",
   "metadata": {},
   "outputs": [],
   "source": [
    "# 11. Leitura do arquivo 'USvideos.csv'\n",
    "df_us_videos = spark.read.csv(\"USvideos.csv\", header=True, inferSchema=True)\n"
   ]
  },
  {
   "cell_type": "code",
   "execution_count": 14,
   "id": "ec8a2c0e-3f2e-4d25-bee7-97bff1d16e79",
   "metadata": {},
   "outputs": [],
   "source": [
    "# 12. Mesclar df_us_videos no df_video\n",
    "\n",
    "df_join_video_usvideos = df_video.join(df_us_videos, on=\"Title\", how=\"left\")\n"
   ]
  },
  {
   "cell_type": "code",
   "execution_count": 15,
   "id": "3ce71f5a-1b0f-4c38-a5b3-2804b4a025a4",
   "metadata": {},
   "outputs": [
    {
     "name": "stdout",
     "output_type": "stream",
     "text": [
      "+---+-----+--------+------------+-------+-----+--------+-----+-----------+----+\n",
      "|_c0|Title|Video ID|Published At|Keyword|Likes|Comments|Views|Interaction|Year|\n",
      "+---+-----+--------+------------+-------+-----+--------+-----+-----------+----+\n",
      "|  0|    0|       0|           0|      0|    0|       0|    0|          0|   0|\n",
      "|  0|    0|       0|           0|      0|    0|       0|    0|          0|   0|\n",
      "|  0|    0|       0|           0|      0|    0|       0|    0|          0|   0|\n",
      "|  0|    0|       0|           0|      0|    0|       0|    0|          0|   0|\n",
      "|  0|    0|       0|           0|      0|    0|       0|    0|          0|   0|\n",
      "|  0|    0|       0|           0|      0|    0|       0|    0|          0|   0|\n",
      "|  0|    0|       0|           0|      0|    0|       0|    0|          0|   0|\n",
      "|  0|    0|       0|           0|      0|    0|       0|    0|          0|   0|\n",
      "|  0|    0|       0|           0|      0|    0|       0|    0|          0|   0|\n",
      "|  0|    0|       0|           0|      0|    0|       0|    0|          0|   0|\n",
      "|  0|    0|       0|           0|      0|    0|       0|    0|          0|   0|\n",
      "|  0|    0|       0|           0|      0|    0|       0|    0|          0|   0|\n",
      "|  0|    0|       0|           0|      0|    0|       0|    0|          0|   0|\n",
      "|  0|    0|       0|           0|      0|    0|       0|    0|          0|   0|\n",
      "|  0|    0|       0|           0|      0|    0|       0|    0|          0|   0|\n",
      "|  0|    0|       0|           0|      0|    0|       0|    0|          0|   0|\n",
      "|  0|    0|       0|           0|      0|    0|       0|    0|          0|   0|\n",
      "|  0|    0|       0|           0|      0|    0|       0|    0|          0|   0|\n",
      "|  0|    0|       0|           0|      0|    0|       0|    0|          0|   0|\n",
      "|  0|    0|       0|           0|      0|    0|       0|    0|          0|   0|\n",
      "+---+-----+--------+------------+-------+-----+--------+-----+-----------+----+\n",
      "only showing top 20 rows\n",
      "\n"
     ]
    }
   ],
   "source": [
    "# 13. Verificar quantidade de nulos em todos os campos\n",
    "df_video.select([col(c).isNull().cast(\"int\").alias(c) for c in df_video.columns]).show()\n"
   ]
  },
  {
   "cell_type": "code",
   "execution_count": 20,
   "id": "57197488-d274-4149-9094-4a1d50529edb",
   "metadata": {},
   "outputs": [],
   "source": [
    "# 14. Remover coluna '_c0' e salvar como parquet\n",
    "\n",
    "df_join_video_comments = df_join_video_comments.drop(\"_c0\")"
   ]
  },
  {
   "cell_type": "code",
   "execution_count": 23,
   "id": "27d29079-ba45-49e2-98f4-0b23c8f16ee9",
   "metadata": {},
   "outputs": [
    {
     "name": "stdout",
     "output_type": "stream",
     "text": [
      "Tarefa concluída!\n"
     ]
    }
   ],
   "source": [
    "# Finalizando o arquivo para submissão\n",
    "print(\"Tarefa concluída!\")"
   ]
  },
  {
   "cell_type": "code",
   "execution_count": null,
   "id": "c0ea8d2c-5fd2-4c3b-90da-1d4bddab0d4c",
   "metadata": {},
   "outputs": [],
   "source": []
  }
 ],
 "metadata": {
  "kernelspec": {
   "display_name": "Python 3 (ipykernel)",
   "language": "python",
   "name": "python3"
  },
  "language_info": {
   "codemirror_mode": {
    "name": "ipython",
    "version": 3
   },
   "file_extension": ".py",
   "mimetype": "text/x-python",
   "name": "python",
   "nbconvert_exporter": "python",
   "pygments_lexer": "ipython3",
   "version": "3.11.7"
  }
 },
 "nbformat": 4,
 "nbformat_minor": 5
}
