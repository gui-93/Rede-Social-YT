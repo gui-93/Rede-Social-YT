{
 "cells": [
  {
   "cell_type": "code",
   "execution_count": 1,
   "id": "f2c9b62e-78a3-40df-9005-28f43efacf89",
   "metadata": {},
   "outputs": [],
   "source": [
    "# Importando as bibliotecas necessárias\n",
    "from pyspark.sql import SparkSession\n",
    "from pyspark.sql.functions import month, col\n",
    "from pyspark.ml.feature import StringIndexer, VectorAssembler, Normalizer, PCA\n",
    "from pyspark.ml.regression import LinearRegression\n"
   ]
  },
  {
   "cell_type": "code",
   "execution_count": 2,
   "id": "1da22041-3d82-4335-a8b9-9fd17884d0dc",
   "metadata": {},
   "outputs": [],
   "source": [
    "# Criando a Spark Session\n",
    "spark = SparkSession.builder \\\n",
    "    .appName(\"Preparação de Dados para Modelos Preditivos\") \\\n",
    "    .getOrCreate()\n",
    "\n",
    "from pyspark.sql import SparkSession\n",
    "from pyspark.sql.functions import month, col\n"
   ]
  },
  {
   "cell_type": "code",
   "execution_count": 3,
   "id": "aec242aa-6f7d-4add-aa3a-fa947d914ec1",
   "metadata": {},
   "outputs": [
    {
     "name": "stdout",
     "output_type": "stream",
     "text": [
      "root\n",
      " |-- Video ID: string (nullable = true)\n",
      " |-- Title: string (nullable = true)\n",
      " |-- Published At: date (nullable = true)\n",
      " |-- Keyword: string (nullable = true)\n",
      " |-- Likes: integer (nullable = true)\n",
      " |-- Comments: integer (nullable = true)\n",
      " |-- Views: integer (nullable = true)\n",
      " |-- Interaction: integer (nullable = true)\n",
      " |-- Year: string (nullable = true)\n",
      " |-- Comment: string (nullable = true)\n",
      " |-- Sentiment: integer (nullable = true)\n",
      " |-- Likes Comment: integer (nullable = true)\n",
      "\n",
      "+-----------+--------------------+------------+-------+-----+--------+------+-----------+----+--------------------+---------+-------------+\n",
      "|   Video ID|               Title|Published At|Keyword|Likes|Comments| Views|Interaction|Year|             Comment|Sentiment|Likes Comment|\n",
      "+-----------+--------------------+------------+-------+-----+--------+------+-----------+----+--------------------+---------+-------------+\n",
      "|wAZZ-UWGVHI|Apple Pay Is Kill...|  2022-08-23|   tech| 3407|     672|135612|     139691|2022|Let's not forget ...|        1|           95|\n",
      "|wAZZ-UWGVHI|Apple Pay Is Kill...|  2022-08-23|   tech| 3407|     672|135612|     139691|2022|Here in NZ 50% of...|        0|           19|\n",
      "|wAZZ-UWGVHI|Apple Pay Is Kill...|  2022-08-23|   tech| 3407|     672|135612|     139691|2022|I will forever ac...|        2|          161|\n",
      "|wAZZ-UWGVHI|Apple Pay Is Kill...|  2022-08-23|   tech| 3407|     672|135612|     139691|2022|Whenever I go to ...|        0|            8|\n",
      "|wAZZ-UWGVHI|Apple Pay Is Kill...|  2022-08-23|   tech| 3407|     672|135612|     139691|2022|Apple Pay is so c...|        2|           34|\n",
      "+-----------+--------------------+------------+-------+-----+--------+------+-----------+----+--------------------+---------+-------------+\n",
      "only showing top 5 rows\n",
      "\n"
     ]
    }
   ],
   "source": [
    "# 1. Iniciando a SparkSession\n",
    "spark = SparkSession.builder.master(\"local[*]\").appName(\"Data Preparation\").getOrCreate()\n",
    "\n",
    "# Lendo o arquivo correto\n",
    "df_video = spark.read.parquet(\"videos-comments-tratados.snappy.parquet\")\n",
    "\n",
    "# Confirmando o carregamento dos dados\n",
    "df_video.printSchema()\n",
    "df_video.show(5)\n"
   ]
  },
  {
   "cell_type": "code",
   "execution_count": 4,
   "id": "ea557fe4-12d8-4f2f-92bc-a2095113ced1",
   "metadata": {},
   "outputs": [
    {
     "name": "stdout",
     "output_type": "stream",
     "text": [
      "+-----------+--------------------+------------+-------+-----+--------+------+-----------+----+--------------------+---------+-------------+-----+\n",
      "|   Video ID|               Title|Published At|Keyword|Likes|Comments| Views|Interaction|Year|             Comment|Sentiment|Likes Comment|Month|\n",
      "+-----------+--------------------+------------+-------+-----+--------+------+-----------+----+--------------------+---------+-------------+-----+\n",
      "|wAZZ-UWGVHI|Apple Pay Is Kill...|  2022-08-23|   tech| 3407|     672|135612|     139691|2022|Let's not forget ...|        1|           95|    8|\n",
      "|wAZZ-UWGVHI|Apple Pay Is Kill...|  2022-08-23|   tech| 3407|     672|135612|     139691|2022|Here in NZ 50% of...|        0|           19|    8|\n",
      "|wAZZ-UWGVHI|Apple Pay Is Kill...|  2022-08-23|   tech| 3407|     672|135612|     139691|2022|I will forever ac...|        2|          161|    8|\n",
      "|wAZZ-UWGVHI|Apple Pay Is Kill...|  2022-08-23|   tech| 3407|     672|135612|     139691|2022|Whenever I go to ...|        0|            8|    8|\n",
      "|wAZZ-UWGVHI|Apple Pay Is Kill...|  2022-08-23|   tech| 3407|     672|135612|     139691|2022|Apple Pay is so c...|        2|           34|    8|\n",
      "+-----------+--------------------+------------+-------+-----+--------+------+-----------+----+--------------------+---------+-------------+-----+\n",
      "only showing top 5 rows\n",
      "\n"
     ]
    }
   ],
   "source": [
    "# 2. Adicionando a coluna 'Month'\n",
    "df_video = df_video.withColumn(\"Month\", month(col(\"Published At\")))\n",
    "df_video.show(5)\n"
   ]
  },
  {
   "cell_type": "code",
   "execution_count": 6,
   "id": "2fa44075-f2ee-407b-854e-a48702840117",
   "metadata": {},
   "outputs": [
    {
     "name": "stdout",
     "output_type": "stream",
     "text": [
      "+-----------+--------------------+------------+-------------+-----+--------+------+-----------+----+--------------------+---------+-------------+-----+-------------+\n",
      "|   Video ID|               Title|Published At|      keyword|Likes|Comments| Views|Interaction|Year|             Comment|Sentiment|Likes Comment|Month|Keyword Index|\n",
      "+-----------+--------------------+------------+-------------+-----+--------+------+-----------+----+--------------------+---------+-------------+-----+-------------+\n",
      "|wAZZ-UWGVHI|Apple Pay Is Kill...|  2022-08-23|default_value| 3407|     672|135612|     139691|2022|Let's not forget ...|        1|           95|    8|          0.0|\n",
      "|wAZZ-UWGVHI|Apple Pay Is Kill...|  2022-08-23|default_value| 3407|     672|135612|     139691|2022|Here in NZ 50% of...|        0|           19|    8|          0.0|\n",
      "|wAZZ-UWGVHI|Apple Pay Is Kill...|  2022-08-23|default_value| 3407|     672|135612|     139691|2022|I will forever ac...|        2|          161|    8|          0.0|\n",
      "|wAZZ-UWGVHI|Apple Pay Is Kill...|  2022-08-23|default_value| 3407|     672|135612|     139691|2022|Whenever I go to ...|        0|            8|    8|          0.0|\n",
      "|wAZZ-UWGVHI|Apple Pay Is Kill...|  2022-08-23|default_value| 3407|     672|135612|     139691|2022|Apple Pay is so c...|        2|           34|    8|          0.0|\n",
      "+-----------+--------------------+------------+-------------+-----+--------+------+-----------+----+--------------------+---------+-------------+-----+-------------+\n",
      "only showing top 5 rows\n",
      "\n"
     ]
    }
   ],
   "source": [
    "# 3. Adicionando a coluna \"Keyword Index\" com a transformação da coluna 'keyword' para valores numéricos\n",
    "from pyspark.sql.functions import lit\n",
    "\n",
    "# Adicionando uma coluna \"keyword\" com valores fictícios\n",
    "df_video = df_video.withColumn(\"keyword\", lit(\"default_value\"))\n",
    "\n",
    "from pyspark.ml.feature import StringIndexer\n",
    "\n",
    "# Transformar a coluna \"keyword\" em valores numéricos\n",
    "indexer = StringIndexer(inputCol=\"keyword\", outputCol=\"Keyword Index\")\n",
    "df_video = indexer.fit(df_video).transform(df_video)\n",
    "\n",
    "# Exibir os dados após a transformação\n",
    "df_video.show(5)\n",
    "\n",
    "from pyspark.sql.functions import col\n",
    "from pyspark.ml.feature import VectorAssembler, MinMaxScaler\n",
    "\n",
    "# Converter a coluna \"Year\" para inteiro\n",
    "df_video = df_video.withColumn(\"Year\", col(\"Year\").cast(\"int\"))\n"
   ]
  },
  {
   "cell_type": "code",
   "execution_count": 7,
   "id": "23e9c5ae-cda8-4337-99f3-3af4703bebfd",
   "metadata": {},
   "outputs": [
    {
     "name": "stdout",
     "output_type": "stream",
     "text": [
      "+----------------------------------+---------------------------------------------------------------------+\n",
      "|Features                          |Features Normal                                                      |\n",
      "+----------------------------------+---------------------------------------------------------------------+\n",
      "|[3407.0,135612.0,2022.0,8.0,0.0]  |[2.072291978642988E-4,6.31492585237833E-5,1.0,0.6363636363636364,0.5]|\n",
      "|[3407.0,135612.0,2022.0,8.0,0.0]  |[2.072291978642988E-4,6.31492585237833E-5,1.0,0.6363636363636364,0.5]|\n",
      "|[3407.0,135612.0,2022.0,8.0,0.0]  |[2.072291978642988E-4,6.31492585237833E-5,1.0,0.6363636363636364,0.5]|\n",
      "|[3407.0,135612.0,2022.0,8.0,0.0]  |[2.072291978642988E-4,6.31492585237833E-5,1.0,0.6363636363636364,0.5]|\n",
      "|[3407.0,135612.0,2022.0,8.0,0.0]  |[2.072291978642988E-4,6.31492585237833E-5,1.0,0.6363636363636364,0.5]|\n",
      "|[3407.0,135612.0,2022.0,8.0,0.0]  |[2.072291978642988E-4,6.31492585237833E-5,1.0,0.6363636363636364,0.5]|\n",
      "|[3407.0,135612.0,2022.0,8.0,0.0]  |[2.072291978642988E-4,6.31492585237833E-5,1.0,0.6363636363636364,0.5]|\n",
      "|[3407.0,135612.0,2022.0,8.0,0.0]  |[2.072291978642988E-4,6.31492585237833E-5,1.0,0.6363636363636364,0.5]|\n",
      "|[3407.0,135612.0,2022.0,8.0,0.0]  |[2.072291978642988E-4,6.31492585237833E-5,1.0,0.6363636363636364,0.5]|\n",
      "|[3407.0,135612.0,2022.0,8.0,0.0]  |[2.072291978642988E-4,6.31492585237833E-5,1.0,0.6363636363636364,0.5]|\n",
      "|[76779.0,1758063.0,2022.0,8.0,0.0]|[0.00466873762089814,8.186618801293251E-4,1.0,0.6363636363636364,0.5]|\n",
      "|[76779.0,1758063.0,2022.0,8.0,0.0]|[0.00466873762089814,8.186618801293251E-4,1.0,0.6363636363636364,0.5]|\n",
      "|[76779.0,1758063.0,2022.0,8.0,0.0]|[0.00466873762089814,8.186618801293251E-4,1.0,0.6363636363636364,0.5]|\n",
      "|[76779.0,1758063.0,2022.0,8.0,0.0]|[0.00466873762089814,8.186618801293251E-4,1.0,0.6363636363636364,0.5]|\n",
      "|[76779.0,1758063.0,2022.0,8.0,0.0]|[0.00466873762089814,8.186618801293251E-4,1.0,0.6363636363636364,0.5]|\n",
      "|[76779.0,1758063.0,2022.0,8.0,0.0]|[0.00466873762089814,8.186618801293251E-4,1.0,0.6363636363636364,0.5]|\n",
      "|[76779.0,1758063.0,2022.0,8.0,0.0]|[0.00466873762089814,8.186618801293251E-4,1.0,0.6363636363636364,0.5]|\n",
      "|[76779.0,1758063.0,2022.0,8.0,0.0]|[0.00466873762089814,8.186618801293251E-4,1.0,0.6363636363636364,0.5]|\n",
      "|[76779.0,1758063.0,2022.0,8.0,0.0]|[0.00466873762089814,8.186618801293251E-4,1.0,0.6363636363636364,0.5]|\n",
      "|[76779.0,1758063.0,2022.0,8.0,0.0]|[0.00466873762089814,8.186618801293251E-4,1.0,0.6363636363636364,0.5]|\n",
      "+----------------------------------+---------------------------------------------------------------------+\n",
      "only showing top 20 rows\n",
      "\n"
     ]
    }
   ],
   "source": [
    "# Criar o vetor \"Features\"\n",
    "assembler = VectorAssembler(inputCols=[\"Likes\", \"Views\", \"Year\", \"Month\", \"Keyword Index\"], outputCol=\"Features\")\n",
    "df_video = assembler.transform(df_video)\n",
    "\n",
    "# Normalizar os dados da coluna \"Features\"\n",
    "scaler = MinMaxScaler(inputCol=\"Features\", outputCol=\"Features Normal\")\n",
    "scaler_model = scaler.fit(df_video)\n",
    "df_video = scaler_model.transform(df_video)\n",
    "\n",
    "# Exibir o DataFrame resultante\n",
    "df_video.select(\"Features\", \"Features Normal\").show(truncate=False)\n",
    "\n",
    "\n",
    "# Filtrando valores nulos para normalização\n",
    "df_video = df_video.na.drop(subset=[\"Features\"])\n"
   ]
  },
  {
   "cell_type": "code",
   "execution_count": 8,
   "id": "017415ea-98ae-4ad3-bca4-f78e80527945",
   "metadata": {},
   "outputs": [],
   "source": [
    "# 6. Adicionando a coluna \"Features PCA\" com a redução de 5 características para 1, utilizando o modelo PCA\n",
    "pca = PCA(k=1, inputCol=\"Features\", outputCol=\"Features PCA\")\n",
    "pca_model = pca.fit(df_video)\n",
    "df_video = pca_model.transform(df_video)\n"
   ]
  },
  {
   "cell_type": "code",
   "execution_count": 9,
   "id": "8a79e7c4-0be6-4b7a-a294-687603ac3b32",
   "metadata": {},
   "outputs": [],
   "source": [
    "# 7. Separando o dataframe df_video em 2 conjuntos: 80% para treinamento e 20% para teste\n",
    "train_data, test_data = df_video.randomSplit([0.8, 0.2], seed=42)\n"
   ]
  },
  {
   "cell_type": "code",
   "execution_count": 10,
   "id": "fd01062c-4195-4222-b5cf-79694d864268",
   "metadata": {},
   "outputs": [
    {
     "name": "stdout",
     "output_type": "stream",
     "text": [
      "RMSE: 25380.24599243739\n",
      "R2: 0.6599757712884147\n"
     ]
    }
   ],
   "source": [
    "# 8. Criando um modelo de regressão linear para estimar o valor do campo \"Comments\", utilizando a \"Features Normal\"\n",
    "lr = LinearRegression(featuresCol=\"Features Normal\", labelCol=\"Comments\", predictionCol=\"Prediction\")\n",
    "lr_model = lr.fit(train_data)\n",
    "\n",
    "# Avaliando o modelo\n",
    "evaluation = lr_model.evaluate(test_data)\n",
    "print(f\"RMSE: {evaluation.rootMeanSquaredError}\")\n",
    "print(f\"R2: {evaluation.r2}\")\n"
   ]
  },
  {
   "cell_type": "code",
   "execution_count": 12,
   "id": "1a3650c8-c556-4973-a1dd-55e5ff181573",
   "metadata": {},
   "outputs": [],
   "source": [
    "# Finalizando a Spark Session\n",
    "spark.stop()"
   ]
  }
 ],
 "metadata": {
  "kernelspec": {
   "display_name": "Python 3 (ipykernel)",
   "language": "python",
   "name": "python3"
  },
  "language_info": {
   "codemirror_mode": {
    "name": "ipython",
    "version": 3
   },
   "file_extension": ".py",
   "mimetype": "text/x-python",
   "name": "python",
   "nbconvert_exporter": "python",
   "pygments_lexer": "ipython3",
   "version": "3.11.7"
  }
 },
 "nbformat": 4,
 "nbformat_minor": 5
}
