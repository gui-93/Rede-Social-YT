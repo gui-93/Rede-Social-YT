{
 "cells": [
  {
   "cell_type": "code",
   "execution_count": 1,
   "id": "b6878dc6-9802-47eb-b680-064f8ef5748e",
   "metadata": {},
   "outputs": [
    {
     "name": "stdout",
     "output_type": "stream",
     "text": [
      "Requirement already satisfied: findspark in c:\\users\\usuario\\anaconda3\\lib\\site-packages (2.0.1)\n",
      "Note: you may need to restart the kernel to use updated packages.\n"
     ]
    }
   ],
   "source": [
    "pip install findspark"
   ]
  },
  {
   "cell_type": "code",
   "execution_count": 2,
   "id": "b72b06f5-0151-4423-b90d-969395d224bf",
   "metadata": {},
   "outputs": [],
   "source": [
    "import findspark\n",
    "findspark.init()\n",
    "from pyspark.sql import SparkSession\n",
    "\n",
    "# Criar a SparkSession\n",
    "spark = SparkSession.builder \\\n",
    "    .appName(\"Agregações com PySpark\") \\\n",
    "    .getOrCreate()"
   ]
  },
  {
   "cell_type": "code",
   "execution_count": 4,
   "id": "53275f5a-2635-4655-b22c-7c32c2836106",
   "metadata": {},
   "outputs": [],
   "source": [
    "df_video = spark.read.parquet(\"C:/Users/Usuario/Documents/rede-social-yt/videos-preparados.snappy.parquet\")\n",
    "\n"
   ]
  },
  {
   "cell_type": "code",
   "execution_count": 6,
   "id": "b6dcc023-f9cb-459d-b9aa-7be32524d944",
   "metadata": {},
   "outputs": [
    {
     "name": "stdout",
     "output_type": "stream",
     "text": [
      "+--------------------+-----------+------------+----------------+------+--------+---------+-----------+----+-----+-------------+--------------------+--------------------+--------------------+\n",
      "|               Title|   Video ID|Published At|         Keyword| Likes|Comments|    Views|Interaction|Year|Month|Keyword Index|        Features PCA|     Features Normal|            Features|\n",
      "+--------------------+-----------+------------+----------------+------+--------+---------+-----------+----+-----+-------------+--------------------+--------------------+--------------------+\n",
      "|ASMR MUKBANG DOUB...|--ZI0dSbbNU|  2020-04-18|         mukbang|378858|   18860| 17975269|   18372987|2020|    4|         30.0|[0.6985786560867407]|[0.02303716158264...|[378858.0,1.79752...|\n",
      "|Deadly car bomb d...|--hxd1CrOqg|  2022-08-22|            news|  6379|    4853|   808787|     820019|2022|    8|         37.0|[0.8936407990235931]|[3.87946679100418...|[6379.0,808787.0,...|\n",
      "|How Biden&#39;s s...|--ixiTypG8g|  2022-08-24|            news|  1029|    2347|    97434|     100810|2022|    8|         37.0| [0.893639694263814]|[6.26308901995973...|[1029.0,97434.0,2...|\n",
      "|Celebrating My 40...|-64r1hcxtV4|  2022-05-30|         mukbang| 45628|   17264|  5283664|    5346556|2022|    5|         30.0|[0.6958642903220559]|[0.00277454843584...|[45628.0,5283664....|\n",
      "|Physics Review - ...|-6IgkG5yZfo|  2017-01-02|         physics| 10959|     525|   844015|     855499|2017|    1|          7.0|[0.11987693683949...|[6.66441317075327...|[10959.0,844015.0...|\n",
      "|Eating ONLY KOREA...|-7hzaGya86g|  2022-07-17|            food| 18957|     566|   702174|     721697|2022|    7|         18.0| [0.414049021412251]|[0.00115277321980...|[18957.0,702174.0...|\n",
      "|19 Year-Old Start...|-8TnsjDRXUE|  2022-08-22|        business|  3232|     580|   188875|     192687|2022|    8|         16.0|[0.37242688169870...|[1.96588027199318...|[3232.0,188875.0,...|\n",
      "|SAT® Tips and Tri...|-9hjdvULDyc|  2022-03-11|             sat|   503|      52|    13591|      14146|2022|    3|         14.0|  [0.28271358051632]|[3.06465715151427...|[503.0,13591.0,20...|\n",
      "|I found SECRET RO...|-Cr69sGnrk8|  2022-08-23|       minecraft|  1333|      22|   119487|     120842|2022|    8|         21.0|[0.4965253642814097]|[8.11161238119056...|[1333.0,119487.0,...|\n",
      "|DON&#39;T USE DOM...|-D4S6TpnO44|  2022-08-01|        business|   114|       2|     2270|       2386|2022|    8|         16.0|[0.37242704370899...|[6.99276929412980...|[114.0,2270.0,202...|\n",
      "|NO MORE A FAMILY ...|-EDUPj7Vg7o|  2022-08-23|        reaction|196898|   15525|  1223879|    1436302|2022|    8|         13.0|[0.29792056982325...|[0.01197277635865...|[196898.0,1223879...|\n",
      "|Data Science Full...|-ETQ97mXXF0|  2019-08-18|    data science|118846|    3501|  3069097|    3191444|2019|    8|          2.0|[0.04108976314948...|[0.00722669262869...|[118846.0,3069097...|\n",
      "|ZOMBIE GIRL ESCAP...|-EjsCBHEbbk|  2020-11-28|          google|349923|    4082|122994457|  123348462|2020|   11|         29.0|[0.7302416225048254]|[0.02127772002155...|[349923.0,1.22994...|\n",
      "|Making Your First...|-FIu9SGvQZc|  2021-11-10|game development| 18486|     733|   353784|     373003|2021|   11|          3.0|[0.07919858713805...|[0.00112413326904...|[18486.0,353784.0...|\n",
      "|English Job Inter...|-JNjsOX0N0c|  2021-08-03|       interview| 19630|     515|   621093|     641238|2021|    8|          4.0|[0.07997441024367...|[0.00119369612185...|[19630.0,621093.0...|\n",
      "|The History Of Ea...|-Jsj7K6E0Fg|  2022-04-13|         history| 11595|    2294|  1487029|    1500918|2022|    4|         12.0|[0.24109139703717...|[7.05114371606340...|[11595.0,1487029....|\n",
      "|How to Assess ANY...|-Mv5KqtuVrc|  2022-08-24|           chess|    58|      21|      601|        680|2022|    8|         26.0|[0.6206235074592289]|[3.58759468133615...|[58.0,601.0,2022....|\n",
      "|15 Kilo Zayıf Gös...|-NcdEl405KY|  2022-08-23|         mukbang|    -1|     335|    27451|      27785|2022|    8|         30.0|[0.7199021998762631]|[0.0,1.2782868003...|[-1.0,27451.0,202...|\n",
      "|ALL MY EXOTIC ANI...|-QN9kxSUWZo|  2022-07-30|         animals|  6473|     455|   267705|     274633|2022|    7|         38.0|[0.9104436851207867]|[3.93662507914750...|[6473.0,267705.0,...|\n",
      "|All Sports Golf B...|-RmUADCWI4A|  2017-12-04|          sports|867074|   43024|106014469|  106924567|2017|   12|         15.0|[0.40674331047891...|[0.05272396031050...|[867074.0,1.06014...|\n",
      "+--------------------+-----------+------------+----------------+------+--------+---------+-----------+----+-----+-------------+--------------------+--------------------+--------------------+\n",
      "only showing top 20 rows\n",
      "\n"
     ]
    }
   ],
   "source": [
    "df_video.show()\n"
   ]
  },
  {
   "cell_type": "code",
   "execution_count": 7,
   "id": "e7e4254b-f4fb-4fa0-9dd9-fd312c20576c",
   "metadata": {},
   "outputs": [
    {
     "name": "stdout",
     "output_type": "stream",
     "text": [
      "+----------------+-----+\n",
      "|         Keyword|count|\n",
      "+----------------+-----+\n",
      "|computer science|   48|\n",
      "|            lofi|   40|\n",
      "|         finance|   39|\n",
      "|             cnn|   50|\n",
      "|           apple|   42|\n",
      "|            news|   39|\n",
      "|         mukbang|   45|\n",
      "|       education|   24|\n",
      "|       interview|   50|\n",
      "|          crypto|   50|\n",
      "|   mathchemistry|   15|\n",
      "|            food|   48|\n",
      "|    data science|   50|\n",
      "|        trolling|   50|\n",
      "|        tutorial|   50|\n",
      "|      literature|   46|\n",
      "|             sat|   49|\n",
      "|         history|   49|\n",
      "|           cubes|   49|\n",
      "|           music|   46|\n",
      "+----------------+-----+\n",
      "only showing top 20 rows\n",
      "\n"
     ]
    }
   ],
   "source": [
    "df_keyword_count = df_video.groupBy(\"Keyword\").count()\n",
    "df_keyword_count.show()"
   ]
  },
  {
   "cell_type": "code",
   "execution_count": 8,
   "id": "817956e3-fef3-4a6d-bad8-e5af032fe5c4",
   "metadata": {},
   "outputs": [
    {
     "name": "stdout",
     "output_type": "stream",
     "text": [
      "+----------------+--------------------+\n",
      "|         Keyword|    avg(Interaction)|\n",
      "+----------------+--------------------+\n",
      "|computer science|  1226793.0208333333|\n",
      "|            lofi|         4167085.875|\n",
      "|         finance|   708542.9487179487|\n",
      "|             cnn|           570650.86|\n",
      "|           apple|1.0873628214285715E7|\n",
      "|            news|  251688.71794871794|\n",
      "|         mukbang|1.1053630377777778E7|\n",
      "|       education|         2750838.625|\n",
      "|       interview|          3044867.04|\n",
      "|          crypto|            413676.2|\n",
      "|   mathchemistry|  3427342.7333333334|\n",
      "|            food|   5352944.104166667|\n",
      "|    data science|           562465.28|\n",
      "|        trolling|          1484584.88|\n",
      "|        tutorial|           6936688.3|\n",
      "|      literature|            881726.5|\n",
      "|             sat|           1098927.0|\n",
      "|         history| 1.565269257142857E7|\n",
      "|           cubes|1.5043961224489795E7|\n",
      "|           music|2.9691370304347824E7|\n",
      "+----------------+--------------------+\n",
      "only showing top 20 rows\n",
      "\n"
     ]
    }
   ],
   "source": [
    "df_keyword_mean_interaction = df_video.groupBy(\"Keyword\").avg(\"Interaction\")\n",
    "df_keyword_mean_interaction.show()\n"
   ]
  },
  {
   "cell_type": "code",
   "execution_count": 9,
   "id": "fbeb18c3-241f-4f1e-bf95-cfe0df56df49",
   "metadata": {},
   "outputs": [
    {
     "name": "stdout",
     "output_type": "stream",
     "text": [
      "+--------+-----------------+\n",
      "| Keyword|Rank Interactions|\n",
      "+--------+-----------------+\n",
      "| animals|       1593623628|\n",
      "|   music|        922551152|\n",
      "|     bed|        532691631|\n",
      "| history|        440187490|\n",
      "|   apple|        429916936|\n",
      "| mrbeast|        300397699|\n",
      "|  google|        239385460|\n",
      "|business|        210025196|\n",
      "|   cubes|        170925917|\n",
      "|  sports|        106924567|\n",
      "| mukbang|         87433858|\n",
      "|    lofi|         86445177|\n",
      "|tutorial|         69616442|\n",
      "|  movies|         65253870|\n",
      "|  marvel|         56247330|\n",
      "|  how-to|         53053975|\n",
      "|    food|         48754479|\n",
      "| physics|         43463298|\n",
      "|    asmr|         34411125|\n",
      "|nintendo|         32268486|\n",
      "+--------+-----------------+\n",
      "only showing top 20 rows\n",
      "\n"
     ]
    }
   ],
   "source": [
    "df_keyword_max_interaction = df_video.groupBy(\"Keyword\") \\\n",
    "    .max(\"Interaction\") \\\n",
    "    .withColumnRenamed(\"max(Interaction)\", \"Rank Interactions\") \\\n",
    "    .orderBy(\"Rank Interactions\", ascending=False)\n",
    "df_keyword_max_interaction.show()"
   ]
  },
  {
   "cell_type": "code",
   "execution_count": 10,
   "id": "147cac94-855a-4178-afe6-cf31a1e336c9",
   "metadata": {},
   "outputs": [
    {
     "name": "stdout",
     "output_type": "stream",
     "text": [
      "+----------------+--------------------+\n",
      "|         Keyword|     variance(Views)|\n",
      "+----------------+--------------------+\n",
      "|computer science| 2.81219868165102E12|\n",
      "|            lofi|1.846209641476677...|\n",
      "|         finance|3.304483175097042...|\n",
      "|             cnn|1.563423618468118...|\n",
      "|           apple|4.299927977442589E15|\n",
      "|            news|1.067512576672564...|\n",
      "|         mukbang|5.586073238973179...|\n",
      "|       education|1.833572249339214...|\n",
      "|       interview|1.819220996034335E13|\n",
      "|          crypto|3.513691634369074E12|\n",
      "|   mathchemistry|2.491467065256849...|\n",
      "|            food|7.326374128154842E13|\n",
      "|    data science|5.479336525349994...|\n",
      "|        trolling|6.932651793973286E12|\n",
      "|        tutorial|1.369626596864457...|\n",
      "|      literature|9.380521884205859E11|\n",
      "|             sat|8.285094966049208E12|\n",
      "|         history|4.253204661918686E15|\n",
      "|           cubes|8.511756571903261E14|\n",
      "|           music|1.924797107187940...|\n",
      "+----------------+--------------------+\n",
      "only showing top 20 rows\n",
      "\n"
     ]
    }
   ],
   "source": [
    "df_keyword_views_stats = df_video.groupBy(\"Keyword\") \\\n",
    "    .agg(\n",
    "        {\"Views\": \"avg\", \"Views\": \"variance\"}\n",
    "    )\n",
    "df_keyword_views_stats.show()"
   ]
  },
  {
   "cell_type": "code",
   "execution_count": 11,
   "id": "0a1fc276-6e96-44b9-a52b-92619ce1968a",
   "metadata": {},
   "outputs": [
    {
     "name": "stdout",
     "output_type": "stream",
     "text": [
      "+----------------+-----------+---------+---------+\n",
      "|         Keyword|  Avg Views|Min Views|Max Views|\n",
      "+----------------+-----------+---------+---------+\n",
      "|computer science|  1191959.0|    16115|  7004107|\n",
      "|            lofi|  4089363.0|     6817| 84747957|\n",
      "|         finance|   694223.0|     1195|  9450554|\n",
      "|             cnn|   554240.0|    51269|  1889320|\n",
      "|           apple| 1.074693E7|     1954|425478119|\n",
      "|            news|   247492.0|    10642|  1465011|\n",
      "|         mukbang|1.0904772E7|     3618| 86169225|\n",
      "|       education|  2684433.0|     6611| 17103736|\n",
      "|       interview|  2966112.0|     2587| 22529756|\n",
      "|          crypto|   404608.0|     1599| 11805668|\n",
      "|   mathchemistry|  3328125.0|       25| 18496859|\n",
      "|            food|  5252406.0|    47430| 48018833|\n",
      "|    data science|   544772.0|      911|  3069097|\n",
      "|        trolling|  1420141.0|     5388| 14286302|\n",
      "|        tutorial|  6761032.0|    19323| 68512549|\n",
      "|      literature|   863021.0|     2847|  4231789|\n",
      "|             sat|  1065869.0|     7163| 18116954|\n",
      "|         history|1.5353156E7|     6640|434352213|\n",
      "|           cubes|1.4735344E7|    10146|168546247|\n",
      "|           music|2.9364893E7|     2944|915457091|\n",
      "+----------------+-----------+---------+---------+\n",
      "only showing top 20 rows\n",
      "\n"
     ]
    }
   ],
   "source": [
    "from pyspark.sql.functions import avg, min, max, round\n",
    "\n",
    "df_keyword_views_summary = df_video.groupBy(\"Keyword\") \\\n",
    "    .agg(\n",
    "        round(avg(\"Views\"), 0).alias(\"Avg Views\"),\n",
    "        round(min(\"Views\"), 0).alias(\"Min Views\"),\n",
    "        round(max(\"Views\"), 0).alias(\"Max Views\")\n",
    "    )\n",
    "df_keyword_views_summary.show()"
   ]
  },
  {
   "cell_type": "code",
   "execution_count": 12,
   "id": "9db7a085-91e4-4123-9f39-3e8eace4d7cd",
   "metadata": {},
   "outputs": [
    {
     "name": "stdout",
     "output_type": "stream",
     "text": [
      "+----------------+------------------+-----------------+\n",
      "|         Keyword|First Published At|Last Published At|\n",
      "+----------------+------------------+-----------------+\n",
      "|computer science|        2022-02-08|       2020-09-08|\n",
      "|            lofi|        2022-06-07|       2020-07-19|\n",
      "|         finance|        2020-09-23|       2017-12-31|\n",
      "|             cnn|        2022-08-17|       2022-08-13|\n",
      "|           apple|        2022-08-22|       2022-08-02|\n",
      "|            news|        2022-08-22|       2022-08-23|\n",
      "|         mukbang|        2020-04-18|       2022-08-24|\n",
      "|       education|        2015-02-06|       2010-10-14|\n",
      "|       interview|        2021-08-03|       2018-10-05|\n",
      "|          crypto|        2022-08-23|       2022-08-22|\n",
      "|   mathchemistry|        2020-08-11|       2019-10-04|\n",
      "|            food|        2022-07-17|       2022-08-20|\n",
      "|    data science|        2019-08-18|       2021-08-06|\n",
      "|        trolling|        2022-08-23|       2022-07-20|\n",
      "|        tutorial|        2018-06-01|       2022-08-17|\n",
      "|      literature|        2016-08-05|       2016-01-15|\n",
      "|             sat|        2022-03-11|       2016-06-16|\n",
      "|         history|        2022-04-13|       2016-01-26|\n",
      "|           cubes|        2022-04-20|       2021-12-03|\n",
      "|           music|        2022-02-08|       2022-01-25|\n",
      "+----------------+------------------+-----------------+\n",
      "only showing top 20 rows\n",
      "\n"
     ]
    }
   ],
   "source": [
    "from pyspark.sql.functions import first, last\n",
    "\n",
    "df_keyword_published = df_video.groupBy(\"Keyword\") \\\n",
    "    .agg(\n",
    "        first(\"Published At\").alias(\"First Published At\"),\n",
    "        last(\"Published At\").alias(\"Last Published At\")\n",
    "    )\n",
    "df_keyword_published.show()"
   ]
  },
  {
   "cell_type": "code",
   "execution_count": 13,
   "id": "100d13d2-6bb0-4ef0-833e-41a60d61ce27",
   "metadata": {},
   "outputs": [
    {
     "name": "stdout",
     "output_type": "stream",
     "text": [
      "Total Titles: 1869\n",
      "Unique Titles: 1854\n",
      "Difference: 15\n"
     ]
    }
   ],
   "source": [
    "total_titles = df_video.count()\n",
    "unique_titles = df_video.select(\"title\").distinct().count()\n",
    "print(f\"Total Titles: {total_titles}\")\n",
    "print(f\"Unique Titles: {unique_titles}\")\n",
    "print(f\"Difference: {total_titles - unique_titles}\")\n"
   ]
  },
  {
   "cell_type": "code",
   "execution_count": 14,
   "id": "218d7643-5cdb-40d9-8a82-38ac6db35468",
   "metadata": {},
   "outputs": [
    {
     "name": "stdout",
     "output_type": "stream",
     "text": [
      "+----+-----+\n",
      "|Year|count|\n",
      "+----+-----+\n",
      "|2007|    2|\n",
      "|2008|    1|\n",
      "|2009|    9|\n",
      "|2010|    6|\n",
      "|2011|    4|\n",
      "|2012|   12|\n",
      "|2013|    6|\n",
      "|2014|   10|\n",
      "|2015|   15|\n",
      "|2016|   34|\n",
      "|2017|   47|\n",
      "|2018|   57|\n",
      "|2019|   86|\n",
      "|2020|  158|\n",
      "|2021|  229|\n",
      "|2022| 1193|\n",
      "+----+-----+\n",
      "\n"
     ]
    }
   ],
   "source": [
    "from pyspark.sql.functions import year\n",
    "\n",
    "df_video_year = df_video.withColumn(\"Year\", year(\"Published At\"))\n",
    "df_year_count = df_video_year.groupBy(\"Year\").count().orderBy(\"Year\", ascending=True)\n",
    "df_year_count.show()\n"
   ]
  },
  {
   "cell_type": "code",
   "execution_count": 15,
   "id": "c67320cf-9299-457a-bffe-054aa0479d84",
   "metadata": {},
   "outputs": [
    {
     "name": "stdout",
     "output_type": "stream",
     "text": [
      "+----+-----+-----+\n",
      "|Year|Month|count|\n",
      "+----+-----+-----+\n",
      "|2007|    7|    1|\n",
      "|2007|   12|    1|\n",
      "|2008|    7|    1|\n",
      "|2009|    2|    2|\n",
      "|2009|    6|    2|\n",
      "|2009|    7|    1|\n",
      "|2009|    8|    1|\n",
      "|2009|   10|    1|\n",
      "|2009|   12|    2|\n",
      "|2010|    3|    1|\n",
      "|2010|    5|    2|\n",
      "|2010|    6|    1|\n",
      "|2010|    9|    1|\n",
      "|2010|   10|    1|\n",
      "|2011|    2|    1|\n",
      "|2011|    5|    1|\n",
      "|2011|    9|    1|\n",
      "|2011|   10|    1|\n",
      "|2012|    1|    1|\n",
      "|2012|    2|    3|\n",
      "+----+-----+-----+\n",
      "only showing top 20 rows\n",
      "\n"
     ]
    }
   ],
   "source": [
    "from pyspark.sql.functions import month\n",
    "\n",
    "df_video_year_month = df_video.withColumn(\"Year\", year(\"Published At\")) \\\n",
    "                              .withColumn(\"Month\", month(\"Published At\"))\n",
    "df_year_month_count = df_video_year_month.groupBy(\"Year\", \"Month\").count().orderBy(\"Year\", \"Month\", ascending=True)\n",
    "df_year_month_count.show()\n"
   ]
  },
  {
   "cell_type": "code",
   "execution_count": 16,
   "id": "ecf98038-6994-496d-832a-a5811ef2ae22",
   "metadata": {},
   "outputs": [
    {
     "name": "stdout",
     "output_type": "stream",
     "text": [
      "+-------+----+-----------+----------------+\n",
      "|Keyword|Year|Total Likes|Cumulative Likes|\n",
      "+-------+----+-----------+----------------+\n",
      "|animals|2009|    1357197|         1357197|\n",
      "|animals|2010|     406734|         1763931|\n",
      "|animals|2013|   11025176|        12789107|\n",
      "|animals|2014|    6763260|        19552367|\n",
      "|animals|2019|    1103713|        20656080|\n",
      "|animals|2020|    6926869|        27582949|\n",
      "|animals|2021|     901838|        28484787|\n",
      "|animals|2022|     424693|        28909480|\n",
      "|  apple|2016|    4144389|         4144389|\n",
      "|  apple|2021|      38261|         4182650|\n",
      "|  apple|2022|     776664|         4959314|\n",
      "|   asmr|2020|     148120|          148120|\n",
      "|   asmr|2021|    1089373|         1237493|\n",
      "|   asmr|2022|     592709|         1830202|\n",
      "|    bed|2007|     634321|          634321|\n",
      "|    bed|2009|    2663647|         3297968|\n",
      "|    bed|2010|     144517|         3442485|\n",
      "|    bed|2011|    1532828|         4975313|\n",
      "|    bed|2017|    1775692|         6751005|\n",
      "|    bed|2018|    1900985|         8651990|\n",
      "+-------+----+-----------+----------------+\n",
      "only showing top 20 rows\n",
      "\n"
     ]
    }
   ],
   "source": [
    "from pyspark.sql.window import Window\n",
    "from pyspark.sql.functions import avg, sum as _sum\n",
    "\n",
    "window_spec = Window.partitionBy(\"Keyword\").orderBy(\"Year\").rowsBetween(Window.unboundedPreceding, 0)\n",
    "\n",
    "df_likes_cumulative = df_video_year \\\n",
    "    .groupBy(\"Keyword\", \"Year\") \\\n",
    "    .agg(_sum(\"Likes\").alias(\"Total Likes\")) \\\n",
    "    .withColumn(\"Cumulative Likes\", _sum(\"Total Likes\").over(window_spec))\n",
    "df_likes_cumulative.show()"
   ]
  },
  {
   "cell_type": "code",
   "execution_count": null,
   "id": "b3dc16a5-832e-4653-94b9-aaf9e6052fa7",
   "metadata": {},
   "outputs": [],
   "source": []
  }
 ],
 "metadata": {
  "kernelspec": {
   "display_name": "Python 3 (ipykernel)",
   "language": "python",
   "name": "python3"
  },
  "language_info": {
   "codemirror_mode": {
    "name": "ipython",
    "version": 3
   },
   "file_extension": ".py",
   "mimetype": "text/x-python",
   "name": "python",
   "nbconvert_exporter": "python",
   "pygments_lexer": "ipython3",
   "version": "3.11.7"
  }
 },
 "nbformat": 4,
 "nbformat_minor": 5
}
