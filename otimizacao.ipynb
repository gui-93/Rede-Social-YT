{
 "cells": [
  {
   "cell_type": "code",
   "execution_count": 2,
   "id": "f2529bab-4c4b-4bae-84e7-e128ca6262a9",
   "metadata": {},
   "outputs": [],
   "source": [
    "from pyspark.sql import SparkSession\n",
    "\n",
    "# Instalando Spark \n",
    "spark = SparkSession.builder \\\n",
    "    .appName(\"VideoDataProcessing\") \\\n",
    "    .getOrCreate()"
   ]
  },
  {
   "cell_type": "code",
   "execution_count": 3,
   "id": "b158394e-467a-4969-a30c-03e35aeadc20",
   "metadata": {},
   "outputs": [],
   "source": [
    "# Ler o arquivo 'videos-preparados.snappy.parquet' no dataframe 'df_video'\n",
    "df_video = spark.read.parquet('videos-preparados.snappy.parquet')\n",
    "\n",
    "# Ler o arquivo 'video-comments-tratados.snappy.parquet' no dataframe 'df_comments'\n",
    "df_comments = spark.read.parquet('C:/Users/Usuario/Documents/rede-social-yt/videos-comments-tratados.snappy.parquet')\n"
   ]
  },
  {
   "cell_type": "code",
   "execution_count": 4,
   "id": "e94cb9cb-7f3c-4ce9-8229-028fb0468d3d",
   "metadata": {},
   "outputs": [],
   "source": [
    "# Criar tabela temporária para o dataframe 'df_video'\n",
    "df_video.createOrReplaceTempView('video')\n",
    "\n",
    "# Criar tabela temporária para o dataframe 'df_comments'\n",
    "df_comments.createOrReplaceTempView('comments')\n",
    "\n"
   ]
  },
  {
   "cell_type": "code",
   "execution_count": 5,
   "id": "62d519f6-ccb2-41e3-a356-5725753e11c6",
   "metadata": {},
   "outputs": [],
   "source": [
    "# Fazer um join das tabelas 'video' e 'comments' utilizando o spark.sql\n",
    "join_video_comments = spark.sql(''' \n",
    "    SELECT \n",
    "        v.`Video ID` AS video_id, \n",
    "        v.Title AS title, \n",
    "        c.Comment AS comment, \n",
    "        c.`Published At` AS timestamp \n",
    "    FROM \n",
    "        video v \n",
    "    INNER JOIN \n",
    "        comments c \n",
    "    ON \n",
    "        v.`Video ID` = c.`Video ID` \n",
    "''')\n"
   ]
  },
  {
   "cell_type": "code",
   "execution_count": 6,
   "id": "c232e386-0828-4628-9c91-e4e1d85a265d",
   "metadata": {},
   "outputs": [],
   "source": [
    "# Repartir o dataframe 'join_video_comments' em 4 partições\n",
    "join_video_comments_repartido = join_video_comments.repartition(4)\n",
    "\n",
    "# Coalesce o dataframe 'join_video_comments_repartido' em 2 partições\n",
    "join_video_comments_coalescido = join_video_comments_repartido.coalesce(2)\n"
   ]
  },
  {
   "cell_type": "code",
   "execution_count": 7,
   "id": "53d899d8-484d-49df-9f1c-644a4910704b",
   "metadata": {},
   "outputs": [],
   "source": [
    "# Ler o arquivo 'videos-preparados.snappy.parquet' no dataframe 'df_video' com repartição\n",
    "df_video = spark.read.parquet('videos-preparados.snappy.parquet').repartition(4)\n",
    "\n",
    "# Ler o arquivo 'video-comments-tratados.snappy.parquet' no dataframe 'df_comments' com repartição\n",
    "df_comments = spark.read.parquet('videos-comments-tratados.snappy.parquet').repartition(4)\n",
    "\n",
    "# Criar tabela temporária para o dataframe 'df_video'\n",
    "df_video.createOrReplaceTempView('video')\n",
    "\n",
    "# Criar tabela temporária para o dataframe 'df_comments'\n",
    "df_comments.createOrReplaceTempView('comments')\n",
    "\n",
    "# Fazer um join das tabelas 'video' e 'comments' utilizando o spark.sql\n",
    "join_video_comments = spark.sql(''' \n",
    "    SELECT \n",
    "        v.`Video ID` AS video_id, \n",
    "        v.Title AS title, \n",
    "        c.Comment AS comment, \n",
    "        c.`Published At` AS timestamp \n",
    "    FROM \n",
    "        video v \n",
    "    INNER JOIN \n",
    "        comments c \n",
    "    ON \n",
    "        v.`Video ID` = c.`Video ID` \n",
    "''')\n",
    "\n",
    "# Filtrar apenas com os dados necessários\n",
    "join_video_comments_filtrado = join_video_comments.select('video_id', 'title', 'comment')\n",
    "\n",
    "# Salvar o join otimizado como 'join-videos-comments-otimizado' no formato parquet\n",
    "join_video_comments_filtrado.write.parquet('join-videos-comments-otimizado')"
   ]
  },
  {
   "cell_type": "code",
   "execution_count": 9,
   "id": "2d93b2fa-d322-4a9d-b057-41170638bb14",
   "metadata": {},
   "outputs": [
    {
     "ename": "AnalysisException",
     "evalue": "[PATH_ALREADY_EXISTS] Path file:/C:/Users/Usuario/Documents/rede-social-yt/join-videos-comments-otimizado already exists. Set mode as \"overwrite\" to overwrite the existing path.",
     "output_type": "error",
     "traceback": [
      "\u001b[1;31m---------------------------------------------------------------------------\u001b[0m",
      "\u001b[1;31mAnalysisException\u001b[0m                         Traceback (most recent call last)",
      "Cell \u001b[1;32mIn[9], line 38\u001b[0m\n\u001b[0;32m     19\u001b[0m join_video_comments \u001b[38;5;241m=\u001b[39m spark\u001b[38;5;241m.\u001b[39msql(\u001b[38;5;124m'''\u001b[39m\u001b[38;5;124m \u001b[39m\n\u001b[0;32m     20\u001b[0m \u001b[38;5;124m    SELECT \u001b[39m\n\u001b[0;32m     21\u001b[0m \u001b[38;5;124m        v.`Video ID` AS video_id, \u001b[39m\n\u001b[1;32m   (...)\u001b[0m\n\u001b[0;32m     30\u001b[0m \u001b[38;5;124m        v.`Video ID` = c.`Video ID` \u001b[39m\n\u001b[0;32m     31\u001b[0m \u001b[38;5;124m'''\u001b[39m)\n\u001b[0;32m     33\u001b[0m \u001b[38;5;66;03m# Filtrar apenas com os dados necessários\u001b[39;00m\n\u001b[0;32m     34\u001b[0m \u001b[38;5;66;03m# Isso ajuda a reduzir a quantidade de dados processados e melhorar o desempenhojoin_video_comments_filtrado = join_video_comments.select('video_id', 'title', 'comment')\u001b[39;00m\n\u001b[0;32m     35\u001b[0m \n\u001b[0;32m     36\u001b[0m \u001b[38;5;66;03m# Salvar o join otimizado como 'join-videos-comments-otimizado' no formato parquet\u001b[39;00m\n\u001b[0;32m     37\u001b[0m \u001b[38;5;66;03m# Isso permite que possamos armazenar os resultados do join de forma eficiente\u001b[39;00m\n\u001b[1;32m---> 38\u001b[0m join_video_comments_filtrado\u001b[38;5;241m.\u001b[39mwrite\u001b[38;5;241m.\u001b[39mparquet(\u001b[38;5;124m'\u001b[39m\u001b[38;5;124mjoin-videos-comments-otimizado\u001b[39m\u001b[38;5;124m'\u001b[39m)\n",
      "File \u001b[1;32m~\\anaconda3\\Lib\\site-packages\\pyspark\\sql\\readwriter.py:1721\u001b[0m, in \u001b[0;36mDataFrameWriter.parquet\u001b[1;34m(self, path, mode, partitionBy, compression)\u001b[0m\n\u001b[0;32m   1719\u001b[0m     \u001b[38;5;28mself\u001b[39m\u001b[38;5;241m.\u001b[39mpartitionBy(partitionBy)\n\u001b[0;32m   1720\u001b[0m \u001b[38;5;28mself\u001b[39m\u001b[38;5;241m.\u001b[39m_set_opts(compression\u001b[38;5;241m=\u001b[39mcompression)\n\u001b[1;32m-> 1721\u001b[0m \u001b[38;5;28mself\u001b[39m\u001b[38;5;241m.\u001b[39m_jwrite\u001b[38;5;241m.\u001b[39mparquet(path)\n",
      "File \u001b[1;32m~\\anaconda3\\Lib\\site-packages\\py4j\\java_gateway.py:1322\u001b[0m, in \u001b[0;36mJavaMember.__call__\u001b[1;34m(self, *args)\u001b[0m\n\u001b[0;32m   1316\u001b[0m command \u001b[38;5;241m=\u001b[39m proto\u001b[38;5;241m.\u001b[39mCALL_COMMAND_NAME \u001b[38;5;241m+\u001b[39m\\\n\u001b[0;32m   1317\u001b[0m     \u001b[38;5;28mself\u001b[39m\u001b[38;5;241m.\u001b[39mcommand_header \u001b[38;5;241m+\u001b[39m\\\n\u001b[0;32m   1318\u001b[0m     args_command \u001b[38;5;241m+\u001b[39m\\\n\u001b[0;32m   1319\u001b[0m     proto\u001b[38;5;241m.\u001b[39mEND_COMMAND_PART\n\u001b[0;32m   1321\u001b[0m answer \u001b[38;5;241m=\u001b[39m \u001b[38;5;28mself\u001b[39m\u001b[38;5;241m.\u001b[39mgateway_client\u001b[38;5;241m.\u001b[39msend_command(command)\n\u001b[1;32m-> 1322\u001b[0m return_value \u001b[38;5;241m=\u001b[39m get_return_value(\n\u001b[0;32m   1323\u001b[0m     answer, \u001b[38;5;28mself\u001b[39m\u001b[38;5;241m.\u001b[39mgateway_client, \u001b[38;5;28mself\u001b[39m\u001b[38;5;241m.\u001b[39mtarget_id, \u001b[38;5;28mself\u001b[39m\u001b[38;5;241m.\u001b[39mname)\n\u001b[0;32m   1325\u001b[0m \u001b[38;5;28;01mfor\u001b[39;00m temp_arg \u001b[38;5;129;01min\u001b[39;00m temp_args:\n\u001b[0;32m   1326\u001b[0m     \u001b[38;5;28;01mif\u001b[39;00m \u001b[38;5;28mhasattr\u001b[39m(temp_arg, \u001b[38;5;124m\"\u001b[39m\u001b[38;5;124m_detach\u001b[39m\u001b[38;5;124m\"\u001b[39m):\n",
      "File \u001b[1;32m~\\anaconda3\\Lib\\site-packages\\pyspark\\errors\\exceptions\\captured.py:185\u001b[0m, in \u001b[0;36mcapture_sql_exception.<locals>.deco\u001b[1;34m(*a, **kw)\u001b[0m\n\u001b[0;32m    181\u001b[0m converted \u001b[38;5;241m=\u001b[39m convert_exception(e\u001b[38;5;241m.\u001b[39mjava_exception)\n\u001b[0;32m    182\u001b[0m \u001b[38;5;28;01mif\u001b[39;00m \u001b[38;5;129;01mnot\u001b[39;00m \u001b[38;5;28misinstance\u001b[39m(converted, UnknownException):\n\u001b[0;32m    183\u001b[0m     \u001b[38;5;66;03m# Hide where the exception came from that shows a non-Pythonic\u001b[39;00m\n\u001b[0;32m    184\u001b[0m     \u001b[38;5;66;03m# JVM exception message.\u001b[39;00m\n\u001b[1;32m--> 185\u001b[0m     \u001b[38;5;28;01mraise\u001b[39;00m converted \u001b[38;5;28;01mfrom\u001b[39;00m \u001b[38;5;28;01mNone\u001b[39;00m\n\u001b[0;32m    186\u001b[0m \u001b[38;5;28;01melse\u001b[39;00m:\n\u001b[0;32m    187\u001b[0m     \u001b[38;5;28;01mraise\u001b[39;00m\n",
      "\u001b[1;31mAnalysisException\u001b[0m: [PATH_ALREADY_EXISTS] Path file:/C:/Users/Usuario/Documents/rede-social-yt/join-videos-comments-otimizado already exists. Set mode as \"overwrite\" to overwrite the existing path."
     ]
    }
   ],
   "source": [
    "# Ler o arquivo 'videos-preparados.snappy.parquet' no dataframe 'df_video' com repartição\n",
    "# Isso ajuda a melhorar o desempenho ao processar grandes conjuntos de dados\n",
    "df_video = spark.read.parquet('videos-preparados.snappy.parquet').repartition(4)\n",
    "\n",
    "# Ler o arquivo 'video-comments-tratados.snappy.parquet' no dataframe 'df_comments' com repartição\n",
    "# Isso ajuda a melhorar o desempenho ao processar grandes conjuntos de dados\n",
    "df_comments = spark.read.parquet('videos-comments-tratados.snappy.parquet').repartition(4)\n",
    "\n",
    "# Criar tabela temporária para o dataframe 'df_video'\n",
    "# Isso permite que possamos usar o spark.sql para fazer consultas\n",
    "df_video.createOrReplaceTempView('video')\n",
    "\n",
    "# Criar tabela temporária para o dataframe 'df_comments'\n",
    "# Isso permite que possamos usar o spark.sql para fazer consultas\n",
    "df_comments.createOrReplaceTempView('comments')\n",
    "\n",
    "# Fazer um join das tabelas 'video' e 'comments' utilizando o spark.sql\n",
    "# Isso permite que possamos combinar os dados de ambas as tabelas\n",
    "join_video_comments = spark.sql(''' \n",
    "    SELECT \n",
    "        v.`Video ID` AS video_id, \n",
    "        v.Title AS title, \n",
    "        c.Comment AS comment, \n",
    "        c.`Published At` AS timestamp \n",
    "    FROM \n",
    "        video v \n",
    "    INNER JOIN \n",
    "        comments c \n",
    "    ON \n",
    "        v.`Video ID` = c.`Video ID` \n",
    "''')\n",
    "\n",
    "# Filtrar apenas com os dados necessários\n",
    "# Isso ajuda a reduzir a quantidade de dados processados e melhorar o desempenhojoin_video_comments_filtrado = join_video_comments.select('video_id', 'title', 'comment')\n",
    "\n",
    "# Salvar o join otimizado como 'join-videos-comments-otimizado' no formato parquet\n",
    "# Isso permite que possamos armazenar os resultados do join de forma eficiente\n",
    "join_video_comments_filtrado.write.parquet('join-videos-comments-otimizado')"
   ]
  },
  {
   "cell_type": "code",
   "execution_count": null,
   "id": "e64ea420-9654-470a-8209-efd20e860619",
   "metadata": {},
   "outputs": [],
   "source": []
  }
 ],
 "metadata": {
  "kernelspec": {
   "display_name": "Python 3 (ipykernel)",
   "language": "python",
   "name": "python3"
  },
  "language_info": {
   "codemirror_mode": {
    "name": "ipython",
    "version": 3
   },
   "file_extension": ".py",
   "mimetype": "text/x-python",
   "name": "python",
   "nbconvert_exporter": "python",
   "pygments_lexer": "ipython3",
   "version": "3.11.7"
  }
 },
 "nbformat": 4,
 "nbformat_minor": 5
}
